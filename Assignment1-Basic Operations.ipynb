{
 "cells": [
  {
   "cell_type": "markdown",
   "id": "99619047-5d20-486e-98d5-ce56f1652f16",
   "metadata": {},
   "source": [
    "# Operations on Lists, Tuple, Dictionary and Set"
   ]
  },
  {
   "cell_type": "markdown",
   "id": "4dbdd960-408b-42e9-91f5-5c76712d5354",
   "metadata": {},
   "source": [
    "# Creation"
   ]
  },
  {
   "cell_type": "code",
   "execution_count": 1,
   "id": "8bcb9902-03ed-4bd2-9a5f-54ce1fdc35c7",
   "metadata": {},
   "outputs": [],
   "source": [
    "l = [1,2,3,'kabi',4.5]\n",
    "t = (1,2,3,'kabi',9.5)\n",
    "d = {'one':1,'two':'pear','three':[1,4,19]}\n",
    "s = {'BMW','Mercedes-Benz','Audi'}"
   ]
  },
  {
   "cell_type": "markdown",
   "id": "7d13a2b6-dae0-4b93-a840-3e3807a80373",
   "metadata": {},
   "source": [
    "# Viewing created sequences"
   ]
  },
  {
   "cell_type": "code",
   "execution_count": 30,
   "id": "6262fede-80c5-4e98-bdb8-8eff7c0fbf87",
   "metadata": {},
   "outputs": [
    {
     "name": "stdout",
     "output_type": "stream",
     "text": [
      "[1, 2, 3, 'kabi', 4.5]\n"
     ]
    }
   ],
   "source": [
    "print(l)"
   ]
  },
  {
   "cell_type": "code",
   "execution_count": 16,
   "id": "83584a3d-7d79-4c4e-ba7f-d6ec19034fb3",
   "metadata": {},
   "outputs": [
    {
     "name": "stdout",
     "output_type": "stream",
     "text": [
      "(1, 2, 3, 'kabi', 9.5)\n"
     ]
    }
   ],
   "source": [
    "print(t)"
   ]
  },
  {
   "cell_type": "code",
   "execution_count": 17,
   "id": "667ad9d2-d0f5-4f8c-8d6b-c6fdbfff98e5",
   "metadata": {},
   "outputs": [
    {
     "name": "stdout",
     "output_type": "stream",
     "text": [
      "{'one': 1, 'two': 'pear', 'three': [1, 4, 19]}\n"
     ]
    }
   ],
   "source": [
    "print(d)"
   ]
  },
  {
   "cell_type": "code",
   "execution_count": 18,
   "id": "d6ca3b1f-5377-4bf0-aac2-4c44985f35b8",
   "metadata": {},
   "outputs": [
    {
     "name": "stdout",
     "output_type": "stream",
     "text": [
      "{'BMW', 'Mercedes-Benz', 'Audi'}\n"
     ]
    }
   ],
   "source": [
    "print(s)"
   ]
  },
  {
   "cell_type": "markdown",
   "id": "f3e92d86-dbb1-4d66-8e19-1b1ef4688ff0",
   "metadata": {},
   "source": [
    "# Checking the type"
   ]
  },
  {
   "cell_type": "code",
   "execution_count": 19,
   "id": "fdec59e3-891c-4ae0-b7f3-8b6f16e81e79",
   "metadata": {},
   "outputs": [
    {
     "data": {
      "text/plain": [
       "(list, tuple, dict, set)"
      ]
     },
     "execution_count": 19,
     "metadata": {},
     "output_type": "execute_result"
    }
   ],
   "source": [
    "type(l),type(t),type(d),type(s)"
   ]
  },
  {
   "cell_type": "markdown",
   "id": "110a2869-7da2-4263-a891-0ec0cab65b8b",
   "metadata": {},
   "source": [
    "# List Functions"
   ]
  },
  {
   "cell_type": "markdown",
   "id": "7441776f-fae0-4fcc-b176-805da9e57555",
   "metadata": {},
   "source": [
    "### Finding the length"
   ]
  },
  {
   "cell_type": "code",
   "execution_count": 20,
   "id": "179f3754-acf2-4c00-bfa2-b133669a5045",
   "metadata": {},
   "outputs": [
    {
     "data": {
      "text/plain": [
       "5"
      ]
     },
     "execution_count": 20,
     "metadata": {},
     "output_type": "execute_result"
    }
   ],
   "source": [
    "len(l)"
   ]
  },
  {
   "cell_type": "markdown",
   "id": "057d09e8-6e06-4add-baa9-9405817656bd",
   "metadata": {},
   "source": [
    "### Appending to a list"
   ]
  },
  {
   "cell_type": "code",
   "execution_count": 31,
   "id": "cbbb873a-c1c4-410c-bc57-8b817e70a419",
   "metadata": {},
   "outputs": [
    {
     "name": "stdout",
     "output_type": "stream",
     "text": [
      "[1, 2, 3, 'kabi', 4.5, 'spinach']\n"
     ]
    }
   ],
   "source": [
    "l.append('spinach')\n",
    "print(l)"
   ]
  },
  {
   "cell_type": "markdown",
   "id": "41cd550f-7a5a-4518-8069-a529c06d2d22",
   "metadata": {},
   "source": [
    "### Inserting to a list (Specific Position)"
   ]
  },
  {
   "cell_type": "code",
   "execution_count": 32,
   "id": "55394efb-5d6f-44df-95d5-1ec2748ee601",
   "metadata": {},
   "outputs": [
    {
     "name": "stdout",
     "output_type": "stream",
     "text": [
      "[1, 2, (3+9j), 3, 'kabi', 4.5, 'spinach']\n"
     ]
    }
   ],
   "source": [
    "l.insert(2,3+9j)\n",
    "print(l)"
   ]
  },
  {
   "cell_type": "markdown",
   "id": "4bb52bf6-fde7-4160-a756-7998ba08e53c",
   "metadata": {},
   "source": [
    "### Deleting by index"
   ]
  },
  {
   "cell_type": "code",
   "execution_count": 33,
   "id": "8db1873d-b781-48b2-bb92-d3e307b76c86",
   "metadata": {},
   "outputs": [
    {
     "name": "stdout",
     "output_type": "stream",
     "text": [
      "Before deletion: [1, 2, (3+9j), 3, 'kabi', 4.5, 'spinach']\n",
      "After deletion: [1, (3+9j), 3, 'kabi', 4.5, 'spinach']\n"
     ]
    }
   ],
   "source": [
    "print('Before deletion:',l)\n",
    "del l[1]\n",
    "print('After deletion:',l)"
   ]
  },
  {
   "cell_type": "markdown",
   "id": "111ca1e8-f7ca-48c4-aa9c-d569428ac624",
   "metadata": {},
   "source": [
    "### Deleting with remove (with value)"
   ]
  },
  {
   "cell_type": "code",
   "execution_count": 34,
   "id": "2aaf42a1-0c60-4f07-a0f4-244e371d4bc1",
   "metadata": {},
   "outputs": [
    {
     "name": "stdout",
     "output_type": "stream",
     "text": [
      "Before removing: [1, (3+9j), 3, 'kabi', 4.5, 'spinach']\n",
      "After removing: [1, (3+9j), 'kabi', 4.5, 'spinach']\n"
     ]
    }
   ],
   "source": [
    "print('Before removing:',l)\n",
    "l.remove(3)\n",
    "print('After removing:',l)"
   ]
  },
  {
   "cell_type": "markdown",
   "id": "626fd61b-3227-4aa9-8539-92c35d0cfda4",
   "metadata": {},
   "source": [
    "### Using loop"
   ]
  },
  {
   "cell_type": "code",
   "execution_count": 35,
   "id": "70727de6-7bb2-427e-89d6-352d02232e04",
   "metadata": {},
   "outputs": [
    {
     "name": "stdout",
     "output_type": "stream",
     "text": [
      "1\n",
      "(3+9j)\n",
      "kabi\n",
      "4.5\n",
      "spinach\n"
     ]
    }
   ],
   "source": [
    "for i in l:\n",
    "    print(i)"
   ]
  },
  {
   "cell_type": "markdown",
   "id": "b2d2dd5e-d2ac-47aa-b810-48894d2a5acb",
   "metadata": {},
   "source": [
    "# Tuple Functions"
   ]
  },
  {
   "cell_type": "markdown",
   "id": "0d268bb8-069f-4e72-b7db-5c1fd6c540a7",
   "metadata": {},
   "source": [
    "### Finding the length"
   ]
  },
  {
   "cell_type": "code",
   "execution_count": 38,
   "id": "851a0395-fed3-46e2-82a3-54c92e3299b9",
   "metadata": {},
   "outputs": [
    {
     "name": "stdout",
     "output_type": "stream",
     "text": [
      "The length is  5\n"
     ]
    }
   ],
   "source": [
    "print('The length is ',len(t))"
   ]
  },
  {
   "cell_type": "markdown",
   "id": "68c8546d-cebf-42cd-8850-39bdab09f253",
   "metadata": {},
   "source": [
    "## *Note: Appending to a tuple gives error*"
   ]
  },
  {
   "cell_type": "markdown",
   "id": "d79f9a81-9dd8-47b9-a0db-0ce8108474c6",
   "metadata": {},
   "source": [
    "### Using loop"
   ]
  },
  {
   "cell_type": "code",
   "execution_count": 4,
   "id": "42bbab8f-134d-4cbe-8f68-61095f1c077d",
   "metadata": {},
   "outputs": [
    {
     "name": "stdout",
     "output_type": "stream",
     "text": [
      "1\n",
      "2\n",
      "3\n",
      "kabi\n",
      "9.5\n"
     ]
    }
   ],
   "source": [
    "for i in t:\n",
    "    print(i)"
   ]
  },
  {
   "cell_type": "markdown",
   "id": "7c9bafce-f034-4a75-952c-7b06a3ceb5ca",
   "metadata": {},
   "source": [
    "### Slicing"
   ]
  },
  {
   "cell_type": "code",
   "execution_count": 5,
   "id": "6178d9ce-8e9d-49f3-a6b7-1b90d4b9abc0",
   "metadata": {},
   "outputs": [
    {
     "name": "stdout",
     "output_type": "stream",
     "text": [
      "(2, 3)\n"
     ]
    }
   ],
   "source": [
    "print(t[1:3])"
   ]
  },
  {
   "cell_type": "markdown",
   "id": "7dbc0f5a-f131-4f9c-a47b-8e29951f9f6e",
   "metadata": {},
   "source": [
    "### Repetition"
   ]
  },
  {
   "cell_type": "code",
   "execution_count": 7,
   "id": "a0d00b2a-e536-44bd-95bf-7b4a086606cc",
   "metadata": {},
   "outputs": [
    {
     "name": "stdout",
     "output_type": "stream",
     "text": [
      "The tuple repeated 3 times is  (1, 2, 3, 'kabi', 9.5, 1, 2, 3, 'kabi', 9.5, 1, 2, 3, 'kabi', 9.5)\n"
     ]
    }
   ],
   "source": [
    "print('The tuple repeated 3 times is ', t * 3)"
   ]
  },
  {
   "cell_type": "markdown",
   "id": "52b041bc-6573-4f44-8a5e-22126625058f",
   "metadata": {},
   "source": [
    "# Dictionary Functions"
   ]
  },
  {
   "cell_type": "markdown",
   "id": "98afac84-836a-4a8b-9dd7-1ec7d8d4e60b",
   "metadata": {},
   "source": [
    "### Finding the length"
   ]
  },
  {
   "cell_type": "code",
   "execution_count": 8,
   "id": "ec49d52d-df57-4048-9fe5-dcbf40f2cb2e",
   "metadata": {},
   "outputs": [
    {
     "name": "stdout",
     "output_type": "stream",
     "text": [
      "3\n"
     ]
    }
   ],
   "source": [
    "print(len(d))"
   ]
  },
  {
   "cell_type": "markdown",
   "id": "a46b1e5a-1eaa-4f6b-ab9c-1a95762ceb8e",
   "metadata": {},
   "source": [
    "### Accessing an element"
   ]
  },
  {
   "cell_type": "code",
   "execution_count": 4,
   "id": "e80d9a48-702a-4454-9977-fc2f36d7574e",
   "metadata": {},
   "outputs": [
    {
     "name": "stdout",
     "output_type": "stream",
     "text": [
      "[1, 4, 19]\n"
     ]
    }
   ],
   "source": [
    "print(d['three'])"
   ]
  },
  {
   "cell_type": "markdown",
   "id": "60067de2-8106-4cf5-b507-6aa0b1d93ce5",
   "metadata": {},
   "source": [
    "### Viewing the keys, values or items"
   ]
  },
  {
   "cell_type": "code",
   "execution_count": 6,
   "id": "4e8a82c8-5d12-4f59-9db1-04b70d00f61e",
   "metadata": {},
   "outputs": [
    {
     "name": "stdout",
     "output_type": "stream",
     "text": [
      "dict_keys(['one', 'two', 'three'])\n",
      "dict_values([1, 'pear', [1, 4, 19]])\n",
      "dict_items([('one', 1), ('two', 'pear'), ('three', [1, 4, 19])])\n"
     ]
    }
   ],
   "source": [
    "print(d.keys())\n",
    "print(d.values())\n",
    "print(d.items())"
   ]
  },
  {
   "cell_type": "markdown",
   "id": "14f8934d-6ad3-42f1-8e34-f836d514ff08",
   "metadata": {},
   "source": [
    "### Removing a key:value pair"
   ]
  },
  {
   "cell_type": "code",
   "execution_count": 7,
   "id": "34323bd7-1061-46f7-b687-151659e1597f",
   "metadata": {},
   "outputs": [
    {
     "name": "stdout",
     "output_type": "stream",
     "text": [
      "{'two': 'pear', 'three': [1, 4, 19]}\n"
     ]
    }
   ],
   "source": [
    "d.pop('one')\n",
    "print(d)"
   ]
  },
  {
   "cell_type": "markdown",
   "id": "2f495009-873e-46cd-a13b-dc54a8a06abf",
   "metadata": {},
   "source": [
    "### Adding key:value pair"
   ]
  },
  {
   "cell_type": "code",
   "execution_count": 9,
   "id": "5cc29fa4-5c98-4087-b0b6-84d6e8e7d901",
   "metadata": {},
   "outputs": [
    {
     "name": "stdout",
     "output_type": "stream",
     "text": [
      "{'two': 'pear', 'three': [1, 4, 19], 'four': 'Porsche'}\n"
     ]
    }
   ],
   "source": [
    "d['four'] = 'Porsche'\n",
    "print(d)"
   ]
  },
  {
   "cell_type": "markdown",
   "id": "01fa2859-fac7-4c91-a4fb-af402a73ed9b",
   "metadata": {},
   "source": [
    "# Set functions"
   ]
  },
  {
   "cell_type": "markdown",
   "id": "a6f1ee44-4cd5-4d6e-8e3f-dbd8fcd01708",
   "metadata": {},
   "source": [
    "### Finding the length"
   ]
  },
  {
   "cell_type": "code",
   "execution_count": 10,
   "id": "f89d9a72-4439-4aa5-a02c-4c34623cc76c",
   "metadata": {},
   "outputs": [
    {
     "data": {
      "text/plain": [
       "3"
      ]
     },
     "execution_count": 10,
     "metadata": {},
     "output_type": "execute_result"
    }
   ],
   "source": [
    "len(s)"
   ]
  },
  {
   "cell_type": "markdown",
   "id": "98549215-0233-4e49-9af0-21dc81a02519",
   "metadata": {},
   "source": [
    "### Adding an element"
   ]
  },
  {
   "cell_type": "code",
   "execution_count": 20,
   "id": "8bfb88b3-8817-4425-b73e-6f78645baab4",
   "metadata": {},
   "outputs": [],
   "source": [
    "s.add('Bentley')"
   ]
  },
  {
   "cell_type": "markdown",
   "id": "9bfa9b9f-a034-4991-8eff-04e459889530",
   "metadata": {},
   "source": [
    "### Removing an element"
   ]
  },
  {
   "cell_type": "code",
   "execution_count": 24,
   "id": "cc0906c1-54a1-47a0-8997-076a16367eeb",
   "metadata": {},
   "outputs": [
    {
     "name": "stdout",
     "output_type": "stream",
     "text": [
      "{'BMW', 'Mercedes-Benz', 'Bentley'}\n"
     ]
    }
   ],
   "source": [
    "s.discard('Audi')\n",
    "print(s)"
   ]
  },
  {
   "cell_type": "markdown",
   "id": "903ae8e5-5cde-40ff-9f1b-3c6378e06eb9",
   "metadata": {},
   "source": [
    "### Union"
   ]
  },
  {
   "cell_type": "code",
   "execution_count": 25,
   "id": "2fa9e60c-c7bf-4101-b153-093f1d8a521c",
   "metadata": {},
   "outputs": [],
   "source": [
    "s2 = {'Rolls-Royce','BMW','Audi'}"
   ]
  },
  {
   "cell_type": "code",
   "execution_count": 26,
   "id": "2f551d80-277b-440b-b540-a0b4248326b6",
   "metadata": {},
   "outputs": [
    {
     "name": "stdout",
     "output_type": "stream",
     "text": [
      "{'Audi', 'Bentley', 'BMW', 'Rolls-Royce', 'Mercedes-Benz'}\n"
     ]
    }
   ],
   "source": [
    "print(s.union(s2))"
   ]
  },
  {
   "cell_type": "markdown",
   "id": "edcc99aa-7ecf-4672-82f3-48ef4ee445fb",
   "metadata": {},
   "source": [
    "### Intersection"
   ]
  },
  {
   "cell_type": "code",
   "execution_count": 28,
   "id": "566a5b12-7065-4dc7-a28e-8a2e1d5377a4",
   "metadata": {},
   "outputs": [
    {
     "name": "stdout",
     "output_type": "stream",
     "text": [
      "{'BMW'}\n"
     ]
    }
   ],
   "source": [
    "print(s.intersection(s2))"
   ]
  },
  {
   "cell_type": "markdown",
   "id": "5114d85e-431a-4abe-9466-feb283a4f9fb",
   "metadata": {},
   "source": [
    "### Set difference"
   ]
  },
  {
   "cell_type": "code",
   "execution_count": 29,
   "id": "efb17bed-0142-44e4-a307-c2227d10f6f7",
   "metadata": {},
   "outputs": [
    {
     "name": "stdout",
     "output_type": "stream",
     "text": [
      "{'Bentley', 'Mercedes-Benz'}\n",
      "{'Rolls-Royce', 'Audi'}\n"
     ]
    }
   ],
   "source": [
    "print(s.difference(s2))\n",
    "print(s2.difference(s))"
   ]
  }
 ],
 "metadata": {
  "kernelspec": {
   "display_name": "Python 3 (ipykernel)",
   "language": "python",
   "name": "python3"
  },
  "language_info": {
   "codemirror_mode": {
    "name": "ipython",
    "version": 3
   },
   "file_extension": ".py",
   "mimetype": "text/x-python",
   "name": "python",
   "nbconvert_exporter": "python",
   "pygments_lexer": "ipython3",
   "version": "3.12.11"
  }
 },
 "nbformat": 4,
 "nbformat_minor": 5
}
